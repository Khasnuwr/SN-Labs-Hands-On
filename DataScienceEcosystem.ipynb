{
 "cells": [
  {
   "cell_type": "markdown",
   "id": "afac7f40-4bba-407e-ab6a-ba75c1aa53e2",
   "metadata": {},
   "source": [
    "# Data Science Tools and Ecosystem"
   ]
  },
  {
   "cell_type": "markdown",
   "id": "d79eb2b3-0844-4f26-b2fb-270a125c3993",
   "metadata": {},
   "source": [
    "In this notebook, Data Science Tools and Ecosystem are summarized."
   ]
  },
  {
   "cell_type": "markdown",
   "id": "fd228bbc-f5cb-4854-963d-b8520377acce",
   "metadata": {},
   "source": [
    "Some of the popular languages that Data Scientists use are:\n",
    "1. Python\n",
    "2. Java\n",
    "3. R"
   ]
  },
  {
   "cell_type": "markdown",
   "id": "1ec850b2-afaa-4320-979a-1ea008a83aba",
   "metadata": {},
   "source": [
    "Some of the commonly used libraries used by Data Scientists include:\n",
    "1. Numpy\n",
    "2. Pandas\n",
    "3. Scikit-learn"
   ]
  },
  {
   "cell_type": "markdown",
   "id": "a493d81c-1d12-4ed9-b86d-9985c7f13230",
   "metadata": {},
   "source": [
    "|Data Science Tools|\n",
    "--------------------\n",
    "|Tensorflow|\n",
    "|Hadoop|\n",
    "|Weka|"
   ]
  },
  {
   "cell_type": "markdown",
   "id": "320162e6-63d6-40b0-b5c8-63af8fb3ea4b",
   "metadata": {},
   "source": [
    "### Below are a few examples of evaluating arithmetic expressions in Python"
   ]
  },
  {
   "cell_type": "code",
   "execution_count": 2,
   "id": "5442d58a-1cf9-48bb-ad43-7edfae1d29ea",
   "metadata": {},
   "outputs": [
    {
     "data": {
      "text/plain": [
       "17"
      ]
     },
     "execution_count": 2,
     "metadata": {},
     "output_type": "execute_result"
    }
   ],
   "source": [
    "# This a simple arithmetic expression to mutiply then add integers\n",
    "(3*4)+5"
   ]
  },
  {
   "cell_type": "code",
   "execution_count": 7,
   "id": "edcc6757-8849-4287-a254-28744eafad72",
   "metadata": {},
   "outputs": [
    {
     "data": {
      "text/plain": [
       "3.3333333333333335"
      ]
     },
     "execution_count": 7,
     "metadata": {},
     "output_type": "execute_result"
    }
   ],
   "source": [
    "# This will convert 200 minutes to hours by diving by 60\n",
    "200/60"
   ]
  },
  {
   "cell_type": "markdown",
   "id": "dd62f384-26ff-4180-a507-b0ffcf2af249",
   "metadata": {},
   "source": [
    "**Objectives:**\n",
    "- Python\n",
    "- R\n",
    "- Java\n",
    "- Scala\n",
    "- Hadoop\n",
    "- Apache Spark\n"
   ]
  },
  {
   "cell_type": "markdown",
   "id": "2d349fac-0a1b-4d19-bca6-e1b7fe69224e",
   "metadata": {},
   "source": [
    "## Author\n",
    "S. M. ARIF MAHMUD"
   ]
  },
  {
   "cell_type": "code",
   "execution_count": null,
   "id": "af140c9b-33fb-4d97-b1f2-941d39552097",
   "metadata": {},
   "outputs": [],
   "source": []
  }
 ],
 "metadata": {
  "kernelspec": {
   "display_name": "anaconda-2024.02-py310",
   "language": "python",
   "name": "conda-env-anaconda-2024.02-py310-py"
  },
  "language_info": {
   "codemirror_mode": {
    "name": "ipython",
    "version": 3
   },
   "file_extension": ".py",
   "mimetype": "text/x-python",
   "name": "python",
   "nbconvert_exporter": "python",
   "pygments_lexer": "ipython3",
   "version": "3.10.14"
  }
 },
 "nbformat": 4,
 "nbformat_minor": 5
}
